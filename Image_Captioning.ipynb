{
  "cells": [
    {
      "cell_type": "markdown",
      "metadata": {
        "id": "xLlbPx7qpbXg"
      },
      "source": [
        "## **Importing Necessary Libraries**"
      ]
    },
    {
      "cell_type": "code",
      "execution_count": 33,
      "metadata": {
        "id": "g4QCYdvlGXut"
      },
      "outputs": [],
      "source": [
        "import pandas as pd\n",
        "import numpy as np\n",
        "from tqdm.notebook import tqdm\n",
        "from os import listdir\n",
        "import pickle\n",
        "from PIL import Image\n",
        "import matplotlib.pyplot as plt\n",
        "from nltk.translate.bleu_score import corpus_bleu\n",
        "from tensorflow.keras.applications.vgg16 import VGG16, preprocess_input\n",
        "from tensorflow.keras.preprocessing.image import load_img, img_to_array\n",
        "from tensorflow.keras.preprocessing.text import Tokenizer\n",
        "from tensorflow.keras.preprocessing.sequence import pad_sequences\n",
        "from tensorflow.keras.models import Model\n",
        "from tensorflow.keras.utils import to_categorical, plot_model\n",
        "from tensorflow.keras.layers import Input, Dense, LSTM, Embedding, Dropout, add"
      ]
    },
    {
      "cell_type": "markdown",
      "metadata": {
        "id": "0c9oo7MRHVMx"
      },
      "source": [
        "## **Getting the data from Kaggle**"
      ]
    },
    {
      "cell_type": "code",
      "execution_count": 2,
      "metadata": {
        "colab": {
          "base_uri": "https://localhost:8080/"
        },
        "id": "Pl05p0IBGUDs",
        "outputId": "46987a73-c048-431d-eacc-08bdb8442171"
      },
      "outputs": [
        {
          "output_type": "stream",
          "name": "stdout",
          "text": [
            "Looking in indexes: https://pypi.org/simple, https://us-python.pkg.dev/colab-wheels/public/simple/\n",
            "Requirement already satisfied: kaggle in /usr/local/lib/python3.7/dist-packages (1.5.12)\n",
            "Requirement already satisfied: requests in /usr/local/lib/python3.7/dist-packages (from kaggle) (2.23.0)\n",
            "Requirement already satisfied: six>=1.10 in /usr/local/lib/python3.7/dist-packages (from kaggle) (1.15.0)\n",
            "Requirement already satisfied: certifi in /usr/local/lib/python3.7/dist-packages (from kaggle) (2022.6.15)\n",
            "Requirement already satisfied: python-slugify in /usr/local/lib/python3.7/dist-packages (from kaggle) (6.1.2)\n",
            "Requirement already satisfied: python-dateutil in /usr/local/lib/python3.7/dist-packages (from kaggle) (2.8.2)\n",
            "Requirement already satisfied: tqdm in /usr/local/lib/python3.7/dist-packages (from kaggle) (4.64.1)\n",
            "Requirement already satisfied: urllib3 in /usr/local/lib/python3.7/dist-packages (from kaggle) (1.24.3)\n",
            "Requirement already satisfied: text-unidecode>=1.3 in /usr/local/lib/python3.7/dist-packages (from python-slugify->kaggle) (1.3)\n",
            "Requirement already satisfied: chardet<4,>=3.0.2 in /usr/local/lib/python3.7/dist-packages (from requests->kaggle) (3.0.4)\n",
            "Requirement already satisfied: idna<3,>=2.5 in /usr/local/lib/python3.7/dist-packages (from requests->kaggle) (2.10)\n",
            "mkdir: cannot create directory ‘/root/.kaggle’: File exists\n"
          ]
        }
      ],
      "source": [
        "! pip install kaggle\n",
        "! mkdir ~/.kaggle\n",
        "! cp kaggle.json ~/.kaggle/\n",
        "! chmod 600 ~/.kaggle/kaggle.json"
      ]
    },
    {
      "cell_type": "code",
      "execution_count": 3,
      "metadata": {
        "colab": {
          "base_uri": "https://localhost:8080/"
        },
        "id": "7vhX4-dHHdvY",
        "outputId": "7fe4a2dd-0b1c-4a04-d091-89f23a87afe6"
      },
      "outputs": [
        {
          "output_type": "stream",
          "name": "stdout",
          "text": [
            "flickr8k.zip: Skipping, found more recently modified local copy (use --force to force download)\n"
          ]
        }
      ],
      "source": [
        "! kaggle datasets download adityajn105/flickr8k"
      ]
    },
    {
      "cell_type": "code",
      "execution_count": 4,
      "metadata": {
        "colab": {
          "base_uri": "https://localhost:8080/"
        },
        "id": "Xd2XsurTINlu",
        "outputId": "68b84719-ed08-4519-b89e-ce639d8ce440"
      },
      "outputs": [
        {
          "output_type": "stream",
          "name": "stdout",
          "text": [
            "Archive:  flickr8k.zip\n",
            "replace Images/1000268201_693b08cb0e.jpg? [y]es, [n]o, [A]ll, [N]one, [r]ename: "
          ]
        }
      ],
      "source": [
        "! unzip flickr8k.zip"
      ]
    },
    {
      "cell_type": "markdown",
      "metadata": {
        "id": "yeAfyMJe8-9y"
      },
      "source": [
        "### **Loading The Captions Data**"
      ]
    },
    {
      "cell_type": "code",
      "execution_count": 34,
      "metadata": {
        "id": "5VfDdFZj8_lS"
      },
      "outputs": [],
      "source": [
        "with open('/content/captions.txt','r') as f:\n",
        "  next(f)\n",
        "  caption_corpus = f.read()"
      ]
    },
    {
      "cell_type": "code",
      "execution_count": 35,
      "metadata": {
        "colab": {
          "base_uri": "https://localhost:8080/"
        },
        "id": "2vg3MtlYBZd3",
        "outputId": "25a80c8d-32f3-4c30-ce51-c836cd17e17c"
      },
      "outputs": [
        {
          "output_type": "execute_result",
          "data": {
            "text/plain": [
              "['1000268201_693b08cb0e.jpg,A child in a pink dress is climbing up a set of stairs in an entry way .',\n",
              " '1000268201_693b08cb0e.jpg,A girl going into a wooden building .',\n",
              " '1000268201_693b08cb0e.jpg,A little girl climbing into a wooden playhouse .',\n",
              " '1000268201_693b08cb0e.jpg,A little girl climbing the stairs to her playhouse .',\n",
              " '1000268201_693b08cb0e.jpg,A little girl in a pink dress going into a wooden cabin .',\n",
              " '1001773457_577c3a7d70.jpg,A black dog and a spotted dog are fighting',\n",
              " '1001773457_577c3a7d70.jpg,A black dog and a tri-colored dog playing with each other on the road .',\n",
              " '1001773457_577c3a7d70.jpg,A black dog and a white dog with brown spots are staring at each other in the street .',\n",
              " '1001773457_577c3a7d70.jpg,Two dogs of different breeds looking at each other on the road .',\n",
              " '1001773457_577c3a7d70.jpg,Two dogs on pavement moving toward each other .']"
            ]
          },
          "metadata": {},
          "execution_count": 35
        }
      ],
      "source": [
        "caption_corpus.split('\\n')[:10]"
      ]
    },
    {
      "cell_type": "markdown",
      "metadata": {
        "id": "WYgyVNSbA4j8"
      },
      "source": [
        "### **Mapping Images To Captions**"
      ]
    },
    {
      "cell_type": "code",
      "execution_count": 36,
      "metadata": {
        "id": "l5oi0HAIBCqa"
      },
      "outputs": [],
      "source": [
        "mapping = {}\n",
        "for line in caption_corpus.split('\\n'):\n",
        "   tokens = line.split(',')\n",
        "   if len(line) < 2:\n",
        "     continue\n",
        "   image_id, captions = tokens[0], tokens[1:]\n",
        "   image_id = image_id.split('.')[0]\n",
        "   captions = ' '.join(captions)\n",
        "   if image_id not in mapping:\n",
        "     mapping[image_id] = []\n",
        "   mapping[image_id].append(captions)"
      ]
    },
    {
      "cell_type": "code",
      "execution_count": 37,
      "metadata": {
        "colab": {
          "base_uri": "https://localhost:8080/"
        },
        "id": "hpWRu0DCHhqw",
        "outputId": "d1036abc-8e30-4c4f-bd89-e1384c8f56e5"
      },
      "outputs": [
        {
          "output_type": "execute_result",
          "data": {
            "text/plain": [
              "8091"
            ]
          },
          "metadata": {},
          "execution_count": 37
        }
      ],
      "source": [
        "len(mapping)"
      ]
    },
    {
      "cell_type": "markdown",
      "metadata": {
        "id": "RukIYzYoK-Oa"
      },
      "source": [
        "## **Cleaning Captions**"
      ]
    },
    {
      "cell_type": "code",
      "execution_count": 38,
      "metadata": {
        "id": "fFPbD0QALI0J"
      },
      "outputs": [],
      "source": [
        "def clean(mapping):\n",
        "  for image_id, captions in mapping.items():\n",
        "    for i in range(len(captions)):\n",
        "      caption = captions[i]\n",
        "      caption = caption.lower()\n",
        "      caption = caption.replace('[^a-z]','')\n",
        "      caption = caption.replace('\\s+',' ')\n",
        "      caption = ' '.join([word for word in caption.split() if len(word) > 1])\n",
        "      caption = 'start ' + caption + ' end'\n",
        "      captions[i] = caption"
      ]
    },
    {
      "cell_type": "code",
      "execution_count": 39,
      "metadata": {
        "colab": {
          "base_uri": "https://localhost:8080/"
        },
        "id": "PJxhGQO4NgXp",
        "outputId": "e2173cf6-e6d8-431a-ddb7-8abe52ef3f8c"
      },
      "outputs": [
        {
          "output_type": "execute_result",
          "data": {
            "text/plain": [
              "['A child in a pink dress is climbing up a set of stairs in an entry way .',\n",
              " 'A girl going into a wooden building .',\n",
              " 'A little girl climbing into a wooden playhouse .',\n",
              " 'A little girl climbing the stairs to her playhouse .',\n",
              " 'A little girl in a pink dress going into a wooden cabin .']"
            ]
          },
          "metadata": {},
          "execution_count": 39
        }
      ],
      "source": [
        "mapping['1000268201_693b08cb0e']"
      ]
    },
    {
      "cell_type": "code",
      "execution_count": 40,
      "metadata": {
        "id": "vOp3FEihNxaf"
      },
      "outputs": [],
      "source": [
        "clean(mapping)"
      ]
    },
    {
      "cell_type": "code",
      "execution_count": 41,
      "metadata": {
        "colab": {
          "base_uri": "https://localhost:8080/"
        },
        "id": "osVXValNN5Iy",
        "outputId": "f8289773-8e0f-4941-f417-29e8e9f3c770"
      },
      "outputs": [
        {
          "output_type": "execute_result",
          "data": {
            "text/plain": [
              "['start child in pink dress is climbing up set of stairs in an entry way end',\n",
              " 'start girl going into wooden building end',\n",
              " 'start little girl climbing into wooden playhouse end',\n",
              " 'start little girl climbing the stairs to her playhouse end',\n",
              " 'start little girl in pink dress going into wooden cabin end']"
            ]
          },
          "metadata": {},
          "execution_count": 41
        }
      ],
      "source": [
        "mapping['1000268201_693b08cb0e']"
      ]
    },
    {
      "cell_type": "markdown",
      "metadata": {
        "id": "tXV45DiirZba"
      },
      "source": [
        "## **Tokenizing The Captions**\n"
      ]
    },
    {
      "cell_type": "code",
      "execution_count": 42,
      "metadata": {
        "colab": {
          "base_uri": "https://localhost:8080/"
        },
        "id": "w1d0o4rbjfJg",
        "outputId": "acbbe358-71ec-4eb8-a937-bc4304700992"
      },
      "outputs": [
        {
          "output_type": "execute_result",
          "data": {
            "text/plain": [
              "40455"
            ]
          },
          "metadata": {},
          "execution_count": 42
        }
      ],
      "source": [
        "all_captions = []\n",
        "for key in mapping:\n",
        "  for caption in mapping[key]:\n",
        "    all_captions.append(caption)\n",
        "    \n",
        "len(all_captions)"
      ]
    },
    {
      "cell_type": "code",
      "execution_count": 43,
      "metadata": {
        "colab": {
          "base_uri": "https://localhost:8080/"
        },
        "id": "vWEQ6BDzsNWK",
        "outputId": "54b2e532-3aef-41a6-a739-c95e8c84afdd"
      },
      "outputs": [
        {
          "output_type": "execute_result",
          "data": {
            "text/plain": [
              "['start child in pink dress is climbing up set of stairs in an entry way end',\n",
              " 'start girl going into wooden building end',\n",
              " 'start little girl climbing into wooden playhouse end',\n",
              " 'start little girl climbing the stairs to her playhouse end',\n",
              " 'start little girl in pink dress going into wooden cabin end',\n",
              " 'start black dog and spotted dog are fighting end',\n",
              " 'start black dog and tri-colored dog playing with each other on the road end',\n",
              " 'start black dog and white dog with brown spots are staring at each other in the street end',\n",
              " 'start two dogs of different breeds looking at each other on the road end',\n",
              " 'start two dogs on pavement moving toward each other end',\n",
              " 'start little girl covered in paint sits in front of painted rainbow with her hands in bowl end',\n",
              " 'start little girl is sitting in front of large painted rainbow end',\n",
              " 'start small girl in the grass plays with fingerpaints in front of white canvas with rainbow on it end',\n",
              " 'start there is girl with pigtails sitting in front of rainbow painting end',\n",
              " 'start young girl with pigtails painting outside in the grass end',\n",
              " 'start man lays on bench while his dog sits by him end',\n",
              " 'start man lays on the bench to which white dog is also tied end',\n",
              " 'start man sleeping on bench outside with white and black dog sitting next to him end',\n",
              " 'start shirtless man lies on park bench with his dog end',\n",
              " 'start man laying on bench holding leash of dog sitting on ground end']"
            ]
          },
          "metadata": {},
          "execution_count": 43
        }
      ],
      "source": [
        "all_captions[:20]"
      ]
    },
    {
      "cell_type": "code",
      "execution_count": 44,
      "metadata": {
        "id": "vEaoTNu7segX"
      },
      "outputs": [],
      "source": [
        "tokenizer = Tokenizer()\n",
        "tokenizer.fit_on_texts(all_captions)\n",
        "vocab_size = len(tokenizer.word_index) + 1"
      ]
    },
    {
      "cell_type": "code",
      "execution_count": 45,
      "metadata": {
        "colab": {
          "base_uri": "https://localhost:8080/"
        },
        "id": "4XChalHPsedc",
        "outputId": "151ba59e-211c-4398-8fb5-d9b33675ea79"
      },
      "outputs": [
        {
          "output_type": "execute_result",
          "data": {
            "text/plain": [
              "8483"
            ]
          },
          "metadata": {},
          "execution_count": 45
        }
      ],
      "source": [
        "vocab_size "
      ]
    },
    {
      "cell_type": "code",
      "execution_count": 46,
      "metadata": {
        "colab": {
          "base_uri": "https://localhost:8080/"
        },
        "id": "56y3lgy3seaa",
        "outputId": "05d52280-8b40-447e-e875-10ab64788619"
      },
      "outputs": [
        {
          "output_type": "execute_result",
          "data": {
            "text/plain": [
              "35"
            ]
          },
          "metadata": {},
          "execution_count": 46
        }
      ],
      "source": [
        "max_length = max(len(caption.split()) for caption in all_captions)\n",
        "max_length"
      ]
    },
    {
      "cell_type": "markdown",
      "metadata": {
        "id": "-ZtlwzRKE5rP"
      },
      "source": [
        "## **Extracting Features From Images**"
      ]
    },
    {
      "cell_type": "markdown",
      "metadata": {
        "id": "QFu57he9FF0I"
      },
      "source": [
        "### Loading the model"
      ]
    },
    {
      "cell_type": "code",
      "execution_count": 96,
      "metadata": {
        "id": "OY3NvKynzB9c"
      },
      "outputs": [],
      "source": [
        "model = VGG16()"
      ]
    },
    {
      "cell_type": "code",
      "execution_count": 97,
      "metadata": {
        "colab": {
          "base_uri": "https://localhost:8080/"
        },
        "id": "6BwE8b6iFWfi",
        "outputId": "ed276cb5-6bea-4b31-a4a6-ad6f6d0186e8"
      },
      "outputs": [
        {
          "output_type": "stream",
          "name": "stdout",
          "text": [
            "Model: \"vgg16\"\n",
            "_________________________________________________________________\n",
            " Layer (type)                Output Shape              Param #   \n",
            "=================================================================\n",
            " input_17 (InputLayer)       [(None, 224, 224, 3)]     0         \n",
            "                                                                 \n",
            " block1_conv1 (Conv2D)       (None, 224, 224, 64)      1792      \n",
            "                                                                 \n",
            " block1_conv2 (Conv2D)       (None, 224, 224, 64)      36928     \n",
            "                                                                 \n",
            " block1_pool (MaxPooling2D)  (None, 112, 112, 64)      0         \n",
            "                                                                 \n",
            " block2_conv1 (Conv2D)       (None, 112, 112, 128)     73856     \n",
            "                                                                 \n",
            " block2_conv2 (Conv2D)       (None, 112, 112, 128)     147584    \n",
            "                                                                 \n",
            " block2_pool (MaxPooling2D)  (None, 56, 56, 128)       0         \n",
            "                                                                 \n",
            " block3_conv1 (Conv2D)       (None, 56, 56, 256)       295168    \n",
            "                                                                 \n",
            " block3_conv2 (Conv2D)       (None, 56, 56, 256)       590080    \n",
            "                                                                 \n",
            " block3_conv3 (Conv2D)       (None, 56, 56, 256)       590080    \n",
            "                                                                 \n",
            " block3_pool (MaxPooling2D)  (None, 28, 28, 256)       0         \n",
            "                                                                 \n",
            " block4_conv1 (Conv2D)       (None, 28, 28, 512)       1180160   \n",
            "                                                                 \n",
            " block4_conv2 (Conv2D)       (None, 28, 28, 512)       2359808   \n",
            "                                                                 \n",
            " block4_conv3 (Conv2D)       (None, 28, 28, 512)       2359808   \n",
            "                                                                 \n",
            " block4_pool (MaxPooling2D)  (None, 14, 14, 512)       0         \n",
            "                                                                 \n",
            " block5_conv1 (Conv2D)       (None, 14, 14, 512)       2359808   \n",
            "                                                                 \n",
            " block5_conv2 (Conv2D)       (None, 14, 14, 512)       2359808   \n",
            "                                                                 \n",
            " block5_conv3 (Conv2D)       (None, 14, 14, 512)       2359808   \n",
            "                                                                 \n",
            " block5_pool (MaxPooling2D)  (None, 7, 7, 512)         0         \n",
            "                                                                 \n",
            " flatten (Flatten)           (None, 25088)             0         \n",
            "                                                                 \n",
            " fc1 (Dense)                 (None, 4096)              102764544 \n",
            "                                                                 \n",
            " fc2 (Dense)                 (None, 4096)              16781312  \n",
            "                                                                 \n",
            " predictions (Dense)         (None, 1000)              4097000   \n",
            "                                                                 \n",
            "=================================================================\n",
            "Total params: 138,357,544\n",
            "Trainable params: 138,357,544\n",
            "Non-trainable params: 0\n",
            "_________________________________________________________________\n"
          ]
        }
      ],
      "source": [
        "model.summary()"
      ]
    },
    {
      "cell_type": "markdown",
      "metadata": {
        "id": "Pd87npuNFfDu"
      },
      "source": [
        "### Restructuring the model to use it as feature extractor"
      ]
    },
    {
      "cell_type": "code",
      "execution_count": 68,
      "metadata": {
        "colab": {
          "base_uri": "https://localhost:8080/"
        },
        "id": "SBvKucKPFb-6",
        "outputId": "08ea3c09-c5c5-40e9-802f-081fef49e919"
      },
      "outputs": [
        {
          "output_type": "stream",
          "name": "stdout",
          "text": [
            "Model: \"model_6\"\n",
            "_________________________________________________________________\n",
            " Layer (type)                Output Shape              Param #   \n",
            "=================================================================\n",
            " input_12 (InputLayer)       [(None, 224, 224, 3)]     0         \n",
            "                                                                 \n",
            " block1_conv1 (Conv2D)       (None, 224, 224, 64)      1792      \n",
            "                                                                 \n",
            " block1_conv2 (Conv2D)       (None, 224, 224, 64)      36928     \n",
            "                                                                 \n",
            " block1_pool (MaxPooling2D)  (None, 112, 112, 64)      0         \n",
            "                                                                 \n",
            " block2_conv1 (Conv2D)       (None, 112, 112, 128)     73856     \n",
            "                                                                 \n",
            " block2_conv2 (Conv2D)       (None, 112, 112, 128)     147584    \n",
            "                                                                 \n",
            " block2_pool (MaxPooling2D)  (None, 56, 56, 128)       0         \n",
            "                                                                 \n",
            " block3_conv1 (Conv2D)       (None, 56, 56, 256)       295168    \n",
            "                                                                 \n",
            " block3_conv2 (Conv2D)       (None, 56, 56, 256)       590080    \n",
            "                                                                 \n",
            " block3_conv3 (Conv2D)       (None, 56, 56, 256)       590080    \n",
            "                                                                 \n",
            " block3_pool (MaxPooling2D)  (None, 28, 28, 256)       0         \n",
            "                                                                 \n",
            " block4_conv1 (Conv2D)       (None, 28, 28, 512)       1180160   \n",
            "                                                                 \n",
            " block4_conv2 (Conv2D)       (None, 28, 28, 512)       2359808   \n",
            "                                                                 \n",
            " block4_conv3 (Conv2D)       (None, 28, 28, 512)       2359808   \n",
            "                                                                 \n",
            " block4_pool (MaxPooling2D)  (None, 14, 14, 512)       0         \n",
            "                                                                 \n",
            " block5_conv1 (Conv2D)       (None, 14, 14, 512)       2359808   \n",
            "                                                                 \n",
            " block5_conv2 (Conv2D)       (None, 14, 14, 512)       2359808   \n",
            "                                                                 \n",
            " block5_conv3 (Conv2D)       (None, 14, 14, 512)       2359808   \n",
            "                                                                 \n",
            " block5_pool (MaxPooling2D)  (None, 7, 7, 512)         0         \n",
            "                                                                 \n",
            " flatten (Flatten)           (None, 25088)             0         \n",
            "                                                                 \n",
            " fc1 (Dense)                 (None, 4096)              102764544 \n",
            "                                                                 \n",
            " fc2 (Dense)                 (None, 4096)              16781312  \n",
            "                                                                 \n",
            "=================================================================\n",
            "Total params: 134,260,544\n",
            "Trainable params: 134,260,544\n",
            "Non-trainable params: 0\n",
            "_________________________________________________________________\n"
          ]
        }
      ],
      "source": [
        "model = Model(inputs = model.inputs, outputs = model.layers[-2].output)\n",
        "model.summary()"
      ]
    },
    {
      "cell_type": "markdown",
      "metadata": {
        "id": "Err4GYk3K0MJ"
      },
      "source": [
        "### Extract features"
      ]
    },
    {
      "cell_type": "code",
      "execution_count": 69,
      "metadata": {
        "id": "n4NYMtoMJ-8S",
        "colab": {
          "base_uri": "https://localhost:8080/",
          "height": 49,
          "referenced_widgets": [
            "e06e812e977a40d0a22d45ab3b1d6c0d",
            "6d525286b2cc44d8abc111513d331a67",
            "0ccd606dcde74f489def1b75f4252a0b",
            "519e23f30c6448cbbe63fb3f03c3c280",
            "8515a12ea3384995adfff2862cfd0945",
            "b75b63c6bdfc45f0aa6f58d2b860da6e",
            "09c620932e5744079d717b46055b1c3a",
            "a2d6e7d2f07b4ff89e8ffd729db27dc6",
            "2335e3f69f794e3e98aa913e8eacc36c",
            "6f50023318df49cbb321cc5587ba2829",
            "7075ed020c2646aeafc6a2ba90dc1520"
          ]
        },
        "outputId": "90ebe3d6-7e1d-4648-81a5-1af44d368842"
      },
      "outputs": [
        {
          "output_type": "display_data",
          "data": {
            "text/plain": [
              "  0%|          | 0/8091 [00:00<?, ?it/s]"
            ],
            "application/vnd.jupyter.widget-view+json": {
              "version_major": 2,
              "version_minor": 0,
              "model_id": "e06e812e977a40d0a22d45ab3b1d6c0d"
            }
          },
          "metadata": {}
        }
      ],
      "source": [
        "features = {}\n",
        "directory = '/content/Images'\n",
        "for img_name in tqdm(listdir(directory)):\n",
        "  img_path = directory + '/' + img_name\n",
        "  image = load_img(img_path, target_size = (224,224))\n",
        "  image = img_to_array(image)\n",
        "  image = image.reshape(1,image.shape[0],image.shape[1],image.shape[2])\n",
        "  image = preprocess_input(image)\n",
        "  feature = model.predict(image)\n",
        "  img_id = img_name.split('.')[0]\n",
        "  features[img_id] = feature\n"
      ]
    },
    {
      "cell_type": "markdown",
      "metadata": {
        "id": "u3ThfkwMPSpI"
      },
      "source": [
        "### **Pickle Features**"
      ]
    },
    {
      "cell_type": "code",
      "execution_count": 79,
      "metadata": {
        "id": "nbbrmJw5M_lS"
      },
      "outputs": [],
      "source": [
        "dir = open('Vgg16_features.pkl','wb')\n",
        "pickle.dump(features,dir)"
      ]
    },
    {
      "cell_type": "code",
      "execution_count": 47,
      "metadata": {
        "id": "E21OJ9oauusm"
      },
      "outputs": [],
      "source": [
        "with open('features.pkl','rb') as f:\n",
        "  features = pickle.load(f)"
      ]
    },
    {
      "cell_type": "markdown",
      "metadata": {
        "id": "z0NZL2V3IFMw"
      },
      "source": [
        "## **Train Test Split**"
      ]
    },
    {
      "cell_type": "code",
      "execution_count": 48,
      "metadata": {
        "colab": {
          "base_uri": "https://localhost:8080/"
        },
        "id": "sw96d7YLuu18",
        "outputId": "fdf28cf5-4557-49ed-8c60-2b3111ad991e"
      },
      "outputs": [
        {
          "output_type": "execute_result",
          "data": {
            "text/plain": [
              "7281"
            ]
          },
          "metadata": {},
          "execution_count": 48
        }
      ],
      "source": [
        "image_id = list(mapping.keys())\n",
        "split_size = int(len(image_id) * 0.90)\n",
        "split_size"
      ]
    },
    {
      "cell_type": "code",
      "execution_count": 49,
      "metadata": {
        "colab": {
          "base_uri": "https://localhost:8080/"
        },
        "id": "a3MshJaruuxc",
        "outputId": "9e488d14-9940-4f13-84b5-57b684f586de"
      },
      "outputs": [
        {
          "output_type": "execute_result",
          "data": {
            "text/plain": [
              "(7281, 810)"
            ]
          },
          "metadata": {},
          "execution_count": 49
        }
      ],
      "source": [
        "train = image_id[:split_size]\n",
        "test = image_id[split_size:]\n",
        "len(train), len(test)"
      ]
    },
    {
      "cell_type": "markdown",
      "metadata": {
        "id": "QEOPfP7ErsZ7"
      },
      "source": [
        "### **Preprocessing Input**"
      ]
    },
    {
      "cell_type": "code",
      "execution_count": 50,
      "metadata": {
        "id": "HKmeEiChY0vh"
      },
      "outputs": [],
      "source": [
        "def data_generator(image_id,mapping,features,tokenizer,max_length,vocab_size,batch_size):\n",
        "  X1, X2, y = list(),list(),list()\n",
        "  n = 0\n",
        "  while 1:\n",
        "    for id in image_id:\n",
        "      n += 1\n",
        "      captions = mapping[id]\n",
        "      for caption in captions:\n",
        "        seq = tokenizer.texts_to_sequences([caption])[0]\n",
        "        for i in range(1,len(seq)):\n",
        "          in_seq, out_seq = seq[:i], seq[i]\n",
        "          in_seq = pad_sequences([in_seq], maxlen = max_length)[0]\n",
        "          out_seq = to_categorical([out_seq],num_classes = vocab_size)[0]\n",
        "\n",
        "          X1.append(features[id][0])\n",
        "          X2.append(in_seq)\n",
        "          y.append(out_seq)\n",
        "\n",
        "      if n == batch_size:\n",
        "        X1, X2, y = np.array(X1), np.array(X2), np.array(y)\n",
        "        yield [X1,X2], y\n",
        "        X1, X2, y = list(),list(),list()\n",
        "        n = 0\n",
        "\n"
      ]
    },
    {
      "cell_type": "markdown",
      "metadata": {
        "id": "LBCRIRUcHz1J"
      },
      "source": [
        "## **Model Building**"
      ]
    },
    {
      "cell_type": "code",
      "execution_count": 51,
      "metadata": {
        "colab": {
          "base_uri": "https://localhost:8080/",
          "height": 54
        },
        "id": "WqMWM7dHIPGL",
        "outputId": "38957d82-e4bc-4b99-974c-49f4e08258ea"
      },
      "outputs": [
        {
          "output_type": "execute_result",
          "data": {
            "image/png": "[encoded data removed]",
            "text/plain": [
              "<IPython.core.display.Image object>"
            ]
          },
          "metadata": {},
          "execution_count": 51
        }
      ],
      "source": [
        "# Encoder\n",
        "image_input = Input(shape = (4096,))\n",
        "h_layer_1 = Dropout(0.4)(image_input)\n",
        "image_output = Dense(256,activation='relu')(h_layer_1)\n",
        "\n",
        "text_input = Input(shape = (max_length,))\n",
        "h_layer_2 = Embedding(vocab_size,256,mask_zero = True)(text_input)\n",
        "h_layer_3 = Dropout(0.4)(h_layer_2)\n",
        "text_output = LSTM(256)(h_layer_3)\n",
        "\n",
        "#Decoder\n",
        "decoder_1 = add([image_output, text_output])\n",
        "decoder_2 = Dense(256,activation = 'relu')(decoder_1)\n",
        "output = Dense(vocab_size,activation = 'softmax')(decoder_2)\n",
        "\n",
        "#Compilation\n",
        "model = Model(inputs = [image_input, text_input], outputs = output)\n",
        "model.compile(loss = 'categorical_crossentropy', optimizer = 'adam')\n",
        "\n",
        "#Plotting\n",
        "plot_model(model,show_shapes='True')"
      ]
    },
    {
      "cell_type": "markdown",
      "metadata": {
        "id": "rJZ83l4jqkNa"
      },
      "source": [
        "## **Training the Model**"
      ]
    },
    {
      "cell_type": "code",
      "execution_count": 52,
      "metadata": {
        "colab": {
          "base_uri": "https://localhost:8080/"
        },
        "id": "-ElBEbH4qntr",
        "outputId": "f2df8819-1f33-4656-b37a-4d04c64de034"
      },
      "outputs": [
        {
          "output_type": "stream",
          "name": "stdout",
          "text": [
            "227/227 [==============================] - 59s 243ms/step - loss: 5.2072\n",
            "227/227 [==============================] - 55s 243ms/step - loss: 3.9877\n",
            "227/227 [==============================] - 56s 246ms/step - loss: 3.5659\n",
            "227/227 [==============================] - 57s 249ms/step - loss: 3.2996\n",
            "227/227 [==============================] - 56s 246ms/step - loss: 3.1052\n",
            "227/227 [==============================] - 55s 244ms/step - loss: 2.9580\n",
            "227/227 [==============================] - 56s 247ms/step - loss: 2.8440\n",
            "227/227 [==============================] - 56s 245ms/step - loss: 2.7528\n",
            "227/227 [==============================] - 56s 247ms/step - loss: 2.6711\n",
            "227/227 [==============================] - 55s 244ms/step - loss: 2.6059\n",
            "227/227 [==============================] - 55s 242ms/step - loss: 2.5386\n",
            "227/227 [==============================] - 55s 244ms/step - loss: 2.4866\n",
            "227/227 [==============================] - 56s 245ms/step - loss: 2.4400\n",
            "227/227 [==============================] - 55s 244ms/step - loss: 2.3940\n",
            "227/227 [==============================] - 55s 244ms/step - loss: 2.3470\n",
            "227/227 [==============================] - 56s 247ms/step - loss: 2.3085\n",
            "227/227 [==============================] - 57s 250ms/step - loss: 2.2709\n",
            "227/227 [==============================] - 55s 242ms/step - loss: 2.2389\n",
            "227/227 [==============================] - 55s 242ms/step - loss: 2.2108\n",
            "227/227 [==============================] - 55s 242ms/step - loss: 2.1804\n",
            "227/227 [==============================] - 56s 246ms/step - loss: 2.1558\n",
            "227/227 [==============================] - 55s 244ms/step - loss: 2.1291\n",
            "227/227 [==============================] - 55s 244ms/step - loss: 2.1047\n",
            "227/227 [==============================] - 56s 246ms/step - loss: 2.0831\n",
            "227/227 [==============================] - 55s 244ms/step - loss: 2.0619\n",
            "227/227 [==============================] - 56s 245ms/step - loss: 2.0412\n",
            "227/227 [==============================] - 56s 246ms/step - loss: 2.0195\n",
            "227/227 [==============================] - 55s 242ms/step - loss: 1.9992\n",
            "227/227 [==============================] - 55s 242ms/step - loss: 1.9834\n",
            "227/227 [==============================] - 56s 246ms/step - loss: 1.9668\n",
            "227/227 [==============================] - 57s 249ms/step - loss: 1.9487\n",
            "227/227 [==============================] - 56s 248ms/step - loss: 1.9336\n",
            "227/227 [==============================] - 56s 248ms/step - loss: 1.9172\n",
            "227/227 [==============================] - 56s 245ms/step - loss: 1.9056\n",
            "227/227 [==============================] - 56s 245ms/step - loss: 1.8953\n",
            "227/227 [==============================] - 56s 248ms/step - loss: 1.8768\n",
            "227/227 [==============================] - 56s 244ms/step - loss: 1.8620\n",
            "227/227 [==============================] - 56s 248ms/step - loss: 1.8502\n",
            "227/227 [==============================] - 56s 248ms/step - loss: 1.8363\n",
            "227/227 [==============================] - 56s 245ms/step - loss: 1.8213\n",
            "227/227 [==============================] - 56s 247ms/step - loss: 1.8123\n",
            "227/227 [==============================] - 56s 245ms/step - loss: 1.8003\n",
            "227/227 [==============================] - 56s 246ms/step - loss: 1.7891\n",
            "227/227 [==============================] - 56s 248ms/step - loss: 1.7747\n",
            "227/227 [==============================] - 57s 252ms/step - loss: 1.7660\n",
            "227/227 [==============================] - 58s 255ms/step - loss: 1.7551\n",
            "227/227 [==============================] - 56s 244ms/step - loss: 1.7456\n",
            "227/227 [==============================] - 56s 246ms/step - loss: 1.7371\n",
            "227/227 [==============================] - 57s 249ms/step - loss: 1.7277\n",
            "227/227 [==============================] - 56s 248ms/step - loss: 1.7195\n"
          ]
        }
      ],
      "source": [
        "epochs = 50\n",
        "batch_size = 32\n",
        "steps = len(train) // batch_size\n",
        "\n",
        "for i in range(epochs):\n",
        "  generator = data_generator(train,mapping,features,tokenizer,max_length,vocab_size,batch_size)\n",
        "\n",
        "  model.fit(generator,epochs = 1,steps_per_epoch = steps,verbose = 1)"
      ]
    },
    {
      "cell_type": "code",
      "execution_count": 28,
      "metadata": {
        "id": "o_4sMAZuB5Hb"
      },
      "outputs": [],
      "source": [
        "model.save('captioning_model.h5')"
      ]
    },
    {
      "cell_type": "markdown",
      "metadata": {
        "id": "HwwP7TdzXL8s"
      },
      "source": [
        "## **Generating Captions From Image**"
      ]
    },
    {
      "cell_type": "code",
      "execution_count": 54,
      "metadata": {
        "id": "yqcZTkhJO-Ib"
      },
      "outputs": [],
      "source": [
        "def id_to_word(x,tokenizer):\n",
        "  for word, index in tokenizer.word_index.items():\n",
        "    if index == x:\n",
        "      return word\n",
        "  return None"
      ]
    },
    {
      "cell_type": "code",
      "execution_count": 55,
      "metadata": {
        "id": "8u9nK5nyXobk"
      },
      "outputs": [],
      "source": [
        "def predict_captions(model,image,tokenizer,max_length):\n",
        "  in_text = 'start'\n",
        "  for i in range(max_length):\n",
        "    seq = tokenizer.texts_to_sequences([in_text])[0]\n",
        "    seq = pad_sequences([seq],maxlen = max_length)\n",
        "    y_pred = model.predict([image,seq])\n",
        "    y_pred = np.argmax(y_pred)\n",
        "    word = id_to_word(y_pred,tokenizer)\n",
        "    if word is None:\n",
        "      break\n",
        "    in_text += \" \" + word\n",
        "    if word == 'end':\n",
        "      break\n",
        "  return in_text\n"
      ]
    },
    {
      "cell_type": "code",
      "execution_count": 46,
      "metadata": {
        "colab": {
          "base_uri": "https://localhost:8080/",
          "height": 83,
          "referenced_widgets": [
            "d2f035aef69046b580a2a33a7d889b0d",
            "c0c827b965064357b60bf2bb129de4e4",
            "2852c8c3d42a4c4191ec540f84bb17cb",
            "6a7a2424fc534d438a6c10ca710a46a0",
            "4b401111a8954e089fae74b24aac2a95",
            "7865e32611d74157b28948e5c382396c",
            "75108d4739884537b4215881165b5438",
            "0a87212630ce4270a52563ea6005c04b",
            "c9eaf6b7912e4fb1a8fbcafe4efd8bb6",
            "c0c3cec72a284ad9b15111dff1d9ed64",
            "5d4be5781bc84592a1461462b3ff1734"
          ]
        },
        "id": "VXHZmC0qZAKj",
        "outputId": "bed69f69-6dcc-4e6c-d919-c80b11d2f969"
      },
      "outputs": [
        {
          "output_type": "display_data",
          "data": {
            "text/plain": [
              "  0%|          | 0/810 [00:00<?, ?it/s]"
            ],
            "application/vnd.jupyter.widget-view+json": {
              "version_major": 2,
              "version_minor": 0,
              "model_id": "d2f035aef69046b580a2a33a7d889b0d"
            }
          },
          "metadata": {}
        },
        {
          "output_type": "stream",
          "name": "stdout",
          "text": [
            "BLEU Score Unigram = 0.5269728042799822\n",
            "BLEU Score Bigram = 0.3003267451165281\n"
          ]
        }
      ],
      "source": [
        "y_test,y_pred = list(),list()\n",
        "\n",
        "for key in tqdm(test):\n",
        "  captions = mapping[key]\n",
        "  predictions = predict_captions(model, features[key], tokenizer, max_length)\n",
        "  actual = [caption.split() for caption in captions]\n",
        "  predictions = predictions.split()\n",
        "\n",
        "  y_test.append(actual)\n",
        "  y_pred.append(predictions)\n",
        "\n",
        "print(f'BLEU Score Unigram = {corpus_bleu(y_test, y_pred, weights = (1.0, 0, 0, 0))}')\n",
        "print(f'BLEU Score Bigram = {corpus_bleu(y_test, y_pred, weights = (0.5, 0.5, 0, 0))}')\n",
        "\n"
      ]
    },
    {
      "cell_type": "markdown",
      "source": [
        "## **Visualise The Results**"
      ],
      "metadata": {
        "id": "EeIbp-9c4K_q"
      }
    },
    {
      "cell_type": "code",
      "execution_count": 69,
      "metadata": {
        "id": "RIG3Fh0ma_pr"
      },
      "outputs": [],
      "source": [
        "def show_preds(img_name): \n",
        "  image_id = img_name.split('.')[0]\n",
        "  img_path = '/content/Images/' + img_name\n",
        "  image = Image.open(img_path)\n",
        "  caption = mapping[image_id]\n",
        "\n",
        "  print('-------------------Actual-------------------')\n",
        "  for x in caption:\n",
        "    print(x)\n",
        "\n",
        "\n",
        "  print('-------------------Predicted-------------------')\n",
        "  print(predict_captions(model,features[image_id], tokenizer, max_length))\n",
        "  plt.imshow(image)"
      ]
    },
    {
      "cell_type": "code",
      "source": [
        "show_preds('1167662968_e466f1e80a.jpg')"
      ],
      "metadata": {
        "colab": {
          "base_uri": "https://localhost:8080/",
          "height": 405
        },
        "id": "dgv_u-jg-Vzt",
        "outputId": "1bbd1df8-2dc0-4106-c312-40c5e239b535"
      },
      "execution_count": 73,
      "outputs": [
        {
          "output_type": "stream",
          "name": "stdout",
          "text": [
            "-------------------Actual-------------------\n",
            "start guy with nose piercing end\n",
            "start man in red cap with nose ring end\n",
            "start teenage boy has silver ring protruding from his nose end\n",
            "start closeup picture of man with nose ring and brown shirt end\n",
            "start young man with nose ring and hat end\n",
            "-------------------Predicted-------------------\n",
            "start closeup of man with nose ring and nose end\n"
          ]
        },
        {
          "output_type": "display_data",
          "data": {
            "text/plain": [
              "<Figure size 432x288 with 1 Axes>"
            ],
            "image/png": "[encoded data removed]"
          },
          "metadata": {
            "needs_background": "light"
          }
        }
      ]
    },
    {
      "cell_type": "code",
      "source": [
        "show_preds('1121416483_c7902d0d49.jpg')"
      ],
      "metadata": {
        "colab": {
          "base_uri": "https://localhost:8080/",
          "height": 405
        },
        "id": "UhUIVLx5quGP",
        "outputId": "80b84511-356a-4440-80a5-809085662bfe"
      },
      "execution_count": 72,
      "outputs": [
        {
          "output_type": "stream",
          "name": "stdout",
          "text": [
            "-------------------Actual-------------------\n",
            "start child is standing on her head end\n",
            "start little girl standing on her head end\n",
            "start small child doing handstand on bed end\n",
            "start young girl does handstand on bed with blue sheets end\n",
            "start the girl is upside down on bed end\n",
            "-------------------Predicted-------------------\n",
            "start little girl in shorts is doing handstand on bed end\n"
          ]
        },
        {
          "output_type": "display_data",
          "data": {
            "text/plain": [
              "<Figure size 432x288 with 1 Axes>"
            ],
            "image/png": "[encoded data removed]"
          },
          "metadata": {
            "needs_background": "light"
          }
        }
      ]
    },
    {
      "cell_type": "code",
      "source": [],
      "metadata": {
        "id": "o_4E_uBUrpJY"
      },
      "execution_count": null,
      "outputs": []
    }
  ],
  "metadata": {
    "accelerator": "GPU",
    "colab": {
      "provenance": [],
      "collapsed_sections": [
        "xLlbPx7qpbXg",
        "yeAfyMJe8-9y",
        "WYgyVNSbA4j8",
        "RukIYzYoK-Oa",
        "tXV45DiirZba",
        "QFu57he9FF0I",
        "Pd87npuNFfDu",
        "Err4GYk3K0MJ",
        "QEOPfP7ErsZ7",
        "LBCRIRUcHz1J"
      ]
    },
    "kernelspec": {
      "display_name": "Python 3",
      "name": "python3"
    },
    "language_info": {
      "name": "python"
    },
    "widgets": {
      "application/vnd.jupyter.widget-state+json": {
        "e06e812e977a40d0a22d45ab3b1d6c0d": {
          "model_module": "@jupyter-widgets/controls",
          "model_name": "HBoxModel",
          "model_module_version": "1.5.0",
          "state": {
            "_dom_classes": [],
            "_model_module": "@jupyter-widgets/controls",
            "_model_module_version": "1.5.0",
            "_model_name": "HBoxModel",
            "_view_count": null,
            "_view_module": "@jupyter-widgets/controls",
            "_view_module_version": "1.5.0",
            "_view_name": "HBoxView",
            "box_style": "",
            "children": [
              "IPY_MODEL_6d525286b2cc44d8abc111513d331a67",
              "IPY_MODEL_0ccd606dcde74f489def1b75f4252a0b",
              "IPY_MODEL_519e23f30c6448cbbe63fb3f03c3c280"
            ],
            "layout": "IPY_MODEL_8515a12ea3384995adfff2862cfd0945"
          }
        },
        "6d525286b2cc44d8abc111513d331a67": {
          "model_module": "@jupyter-widgets/controls",
          "model_name": "HTMLModel",
          "model_module_version": "1.5.0",
          "state": {
            "_dom_classes": [],
            "_model_module": "@jupyter-widgets/controls",
            "_model_module_version": "1.5.0",
            "_model_name": "HTMLModel",
            "_view_count": null,
            "_view_module": "@jupyter-widgets/controls",
            "_view_module_version": "1.5.0",
            "_view_name": "HTMLView",
            "description": "",
            "description_tooltip": null,
            "layout": "IPY_MODEL_b75b63c6bdfc45f0aa6f58d2b860da6e",
            "placeholder": "​",
            "style": "IPY_MODEL_09c620932e5744079d717b46055b1c3a",
            "value": "100%"
          }
        },
        "0ccd606dcde74f489def1b75f4252a0b": {
          "model_module": "@jupyter-widgets/controls",
          "model_name": "FloatProgressModel",
          "model_module_version": "1.5.0",
          "state": {
            "_dom_classes": [],
            "_model_module": "@jupyter-widgets/controls",
            "_model_module_version": "1.5.0",
            "_model_name": "FloatProgressModel",
            "_view_count": null,
            "_view_module": "@jupyter-widgets/controls",
            "_view_module_version": "1.5.0",
            "_view_name": "ProgressView",
            "bar_style": "success",
            "description": "",
            "description_tooltip": null,
            "layout": "IPY_MODEL_a2d6e7d2f07b4ff89e8ffd729db27dc6",
            "max": 8091,
            "min": 0,
            "orientation": "horizontal",
            "style": "IPY_MODEL_2335e3f69f794e3e98aa913e8eacc36c",
            "value": 8091
          }
        },
        "519e23f30c6448cbbe63fb3f03c3c280": {
          "model_module": "@jupyter-widgets/controls",
          "model_name": "HTMLModel",
          "model_module_version": "1.5.0",
          "state": {
            "_dom_classes": [],
            "_model_module": "@jupyter-widgets/controls",
            "_model_module_version": "1.5.0",
            "_model_name": "HTMLModel",
            "_view_count": null,
            "_view_module": "@jupyter-widgets/controls",
            "_view_module_version": "1.5.0",
            "_view_name": "HTMLView",
            "description": "",
            "description_tooltip": null,
            "layout": "IPY_MODEL_6f50023318df49cbb321cc5587ba2829",
            "placeholder": "​",
            "style": "IPY_MODEL_7075ed020c2646aeafc6a2ba90dc1520",
            "value": " 8091/8091 [09:17&lt;00:00, 15.64it/s]"
          }
        },
        "8515a12ea3384995adfff2862cfd0945": {
          "model_module": "@jupyter-widgets/base",
          "model_name": "LayoutModel",
          "model_module_version": "1.2.0",
          "state": {
            "_model_module": "@jupyter-widgets/base",
            "_model_module_version": "1.2.0",
            "_model_name": "LayoutModel",
            "_view_count": null,
            "_view_module": "@jupyter-widgets/base",
            "_view_module_version": "1.2.0",
            "_view_name": "LayoutView",
            "align_content": null,
            "align_items": null,
            "align_self": null,
            "border": null,
            "bottom": null,
            "display": null,
            "flex": null,
            "flex_flow": null,
            "grid_area": null,
            "grid_auto_columns": null,
            "grid_auto_flow": null,
            "grid_auto_rows": null,
            "grid_column": null,
            "grid_gap": null,
            "grid_row": null,
            "grid_template_areas": null,
            "grid_template_columns": null,
            "grid_template_rows": null,
            "height": null,
            "justify_content": null,
            "justify_items": null,
            "left": null,
            "margin": null,
            "max_height": null,
            "max_width": null,
            "min_height": null,
            "min_width": null,
            "object_fit": null,
            "object_position": null,
            "order": null,
            "overflow": null,
            "overflow_x": null,
            "overflow_y": null,
            "padding": null,
            "right": null,
            "top": null,
            "visibility": null,
            "width": null
          }
        },
        "b75b63c6bdfc45f0aa6f58d2b860da6e": {
          "model_module": "@jupyter-widgets/base",
          "model_name": "LayoutModel",
          "model_module_version": "1.2.0",
          "state": {
            "_model_module": "@jupyter-widgets/base",
            "_model_module_version": "1.2.0",
            "_model_name": "LayoutModel",
            "_view_count": null,
            "_view_module": "@jupyter-widgets/base",
            "_view_module_version": "1.2.0",
            "_view_name": "LayoutView",
            "align_content": null,
            "align_items": null,
            "align_self": null,
            "border": null,
            "bottom": null,
            "display": null,
            "flex": null,
            "flex_flow": null,
            "grid_area": null,
            "grid_auto_columns": null,
            "grid_auto_flow": null,
            "grid_auto_rows": null,
            "grid_column": null,
            "grid_gap": null,
            "grid_row": null,
            "grid_template_areas": null,
            "grid_template_columns": null,
            "grid_template_rows": null,
            "height": null,
            "justify_content": null,
            "justify_items": null,
            "left": null,
            "margin": null,
            "max_height": null,
            "max_width": null,
            "min_height": null,
            "min_width": null,
            "object_fit": null,
            "object_position": null,
            "order": null,
            "overflow": null,
            "overflow_x": null,
            "overflow_y": null,
            "padding": null,
            "right": null,
            "top": null,
            "visibility": null,
            "width": null
          }
        },
        "09c620932e5744079d717b46055b1c3a": {
          "model_module": "@jupyter-widgets/controls",
          "model_name": "DescriptionStyleModel",
          "model_module_version": "1.5.0",
          "state": {
            "_model_module": "@jupyter-widgets/controls",
            "_model_module_version": "1.5.0",
            "_model_name": "DescriptionStyleModel",
            "_view_count": null,
            "_view_module": "@jupyter-widgets/base",
            "_view_module_version": "1.2.0",
            "_view_name": "StyleView",
            "description_width": ""
          }
        },
        "a2d6e7d2f07b4ff89e8ffd729db27dc6": {
          "model_module": "@jupyter-widgets/base",
          "model_name": "LayoutModel",
          "model_module_version": "1.2.0",
          "state": {
            "_model_module": "@jupyter-widgets/base",
            "_model_module_version": "1.2.0",
            "_model_name": "LayoutModel",
            "_view_count": null,
            "_view_module": "@jupyter-widgets/base",
            "_view_module_version": "1.2.0",
            "_view_name": "LayoutView",
            "align_content": null,
            "align_items": null,
            "align_self": null,
            "border": null,
            "bottom": null,
            "display": null,
            "flex": null,
            "flex_flow": null,
            "grid_area": null,
            "grid_auto_columns": null,
            "grid_auto_flow": null,
            "grid_auto_rows": null,
            "grid_column": null,
            "grid_gap": null,
            "grid_row": null,
            "grid_template_areas": null,
            "grid_template_columns": null,
            "grid_template_rows": null,
            "height": null,
            "justify_content": null,
            "justify_items": null,
            "left": null,
            "margin": null,
            "max_height": null,
            "max_width": null,
            "min_height": null,
            "min_width": null,
            "object_fit": null,
            "object_position": null,
            "order": null,
            "overflow": null,
            "overflow_x": null,
            "overflow_y": null,
            "padding": null,
            "right": null,
            "top": null,
            "visibility": null,
            "width": null
          }
        },
        "2335e3f69f794e3e98aa913e8eacc36c": {
          "model_module": "@jupyter-widgets/controls",
          "model_name": "ProgressStyleModel",
          "model_module_version": "1.5.0",
          "state": {
            "_model_module": "@jupyter-widgets/controls",
            "_model_module_version": "1.5.0",
            "_model_name": "ProgressStyleModel",
            "_view_count": null,
            "_view_module": "@jupyter-widgets/base",
            "_view_module_version": "1.2.0",
            "_view_name": "StyleView",
            "bar_color": null,
            "description_width": ""
          }
        },
        "6f50023318df49cbb321cc5587ba2829": {
          "model_module": "@jupyter-widgets/base",
          "model_name": "LayoutModel",
          "model_module_version": "1.2.0",
          "state": {
            "_model_module": "@jupyter-widgets/base",
            "_model_module_version": "1.2.0",
            "_model_name": "LayoutModel",
            "_view_count": null,
            "_view_module": "@jupyter-widgets/base",
            "_view_module_version": "1.2.0",
            "_view_name": "LayoutView",
            "align_content": null,
            "align_items": null,
            "align_self": null,
            "border": null,
            "bottom": null,
            "display": null,
            "flex": null,
            "flex_flow": null,
            "grid_area": null,
            "grid_auto_columns": null,
            "grid_auto_flow": null,
            "grid_auto_rows": null,
            "grid_column": null,
            "grid_gap": null,
            "grid_row": null,
            "grid_template_areas": null,
            "grid_template_columns": null,
            "grid_template_rows": null,
            "height": null,
            "justify_content": null,
            "justify_items": null,
            "left": null,
            "margin": null,
            "max_height": null,
            "max_width": null,
            "min_height": null,
            "min_width": null,
            "object_fit": null,
            "object_position": null,
            "order": null,
            "overflow": null,
            "overflow_x": null,
            "overflow_y": null,
            "padding": null,
            "right": null,
            "top": null,
            "visibility": null,
            "width": null
          }
        },
        "7075ed020c2646aeafc6a2ba90dc1520": {
          "model_module": "@jupyter-widgets/controls",
          "model_name": "DescriptionStyleModel",
          "model_module_version": "1.5.0",
          "state": {
            "_model_module": "@jupyter-widgets/controls",
            "_model_module_version": "1.5.0",
            "_model_name": "DescriptionStyleModel",
            "_view_count": null,
            "_view_module": "@jupyter-widgets/base",
            "_view_module_version": "1.2.0",
            "_view_name": "StyleView",
            "description_width": ""
          }
        },
        "d2f035aef69046b580a2a33a7d889b0d": {
          "model_module": "@jupyter-widgets/controls",
          "model_name": "HBoxModel",
          "model_module_version": "1.5.0",
          "state": {
            "_dom_classes": [],
            "_model_module": "@jupyter-widgets/controls",
            "_model_module_version": "1.5.0",
            "_model_name": "HBoxModel",
            "_view_count": null,
            "_view_module": "@jupyter-widgets/controls",
            "_view_module_version": "1.5.0",
            "_view_name": "HBoxView",
            "box_style": "",
            "children": [
              "IPY_MODEL_c0c827b965064357b60bf2bb129de4e4",
              "IPY_MODEL_2852c8c3d42a4c4191ec540f84bb17cb",
              "IPY_MODEL_6a7a2424fc534d438a6c10ca710a46a0"
            ],
            "layout": "IPY_MODEL_4b401111a8954e089fae74b24aac2a95"
          }
        },
        "c0c827b965064357b60bf2bb129de4e4": {
          "model_module": "@jupyter-widgets/controls",
          "model_name": "HTMLModel",
          "model_module_version": "1.5.0",
          "state": {
            "_dom_classes": [],
            "_model_module": "@jupyter-widgets/controls",
            "_model_module_version": "1.5.0",
            "_model_name": "HTMLModel",
            "_view_count": null,
            "_view_module": "@jupyter-widgets/controls",
            "_view_module_version": "1.5.0",
            "_view_name": "HTMLView",
            "description": "",
            "description_tooltip": null,
            "layout": "IPY_MODEL_7865e32611d74157b28948e5c382396c",
            "placeholder": "​",
            "style": "IPY_MODEL_75108d4739884537b4215881165b5438",
            "value": "100%"
          }
        },
        "2852c8c3d42a4c4191ec540f84bb17cb": {
          "model_module": "@jupyter-widgets/controls",
          "model_name": "FloatProgressModel",
          "model_module_version": "1.5.0",
          "state": {
            "_dom_classes": [],
            "_model_module": "@jupyter-widgets/controls",
            "_model_module_version": "1.5.0",
            "_model_name": "FloatProgressModel",
            "_view_count": null,
            "_view_module": "@jupyter-widgets/controls",
            "_view_module_version": "1.5.0",
            "_view_name": "ProgressView",
            "bar_style": "success",
            "description": "",
            "description_tooltip": null,
            "layout": "IPY_MODEL_0a87212630ce4270a52563ea6005c04b",
            "max": 810,
            "min": 0,
            "orientation": "horizontal",
            "style": "IPY_MODEL_c9eaf6b7912e4fb1a8fbcafe4efd8bb6",
            "value": 810
          }
        },
        "6a7a2424fc534d438a6c10ca710a46a0": {
          "model_module": "@jupyter-widgets/controls",
          "model_name": "HTMLModel",
          "model_module_version": "1.5.0",
          "state": {
            "_dom_classes": [],
            "_model_module": "@jupyter-widgets/controls",
            "_model_module_version": "1.5.0",
            "_model_name": "HTMLModel",
            "_view_count": null,
            "_view_module": "@jupyter-widgets/controls",
            "_view_module_version": "1.5.0",
            "_view_name": "HTMLView",
            "description": "",
            "description_tooltip": null,
            "layout": "IPY_MODEL_c0c3cec72a284ad9b15111dff1d9ed64",
            "placeholder": "​",
            "style": "IPY_MODEL_5d4be5781bc84592a1461462b3ff1734",
            "value": " 810/810 [07:16&lt;00:00,  1.96it/s]"
          }
        },
        "4b401111a8954e089fae74b24aac2a95": {
          "model_module": "@jupyter-widgets/base",
          "model_name": "LayoutModel",
          "model_module_version": "1.2.0",
          "state": {
            "_model_module": "@jupyter-widgets/base",
            "_model_module_version": "1.2.0",
            "_model_name": "LayoutModel",
            "_view_count": null,
            "_view_module": "@jupyter-widgets/base",
            "_view_module_version": "1.2.0",
            "_view_name": "LayoutView",
            "align_content": null,
            "align_items": null,
            "align_self": null,
            "border": null,
            "bottom": null,
            "display": null,
            "flex": null,
            "flex_flow": null,
            "grid_area": null,
            "grid_auto_columns": null,
            "grid_auto_flow": null,
            "grid_auto_rows": null,
            "grid_column": null,
            "grid_gap": null,
            "grid_row": null,
            "grid_template_areas": null,
            "grid_template_columns": null,
            "grid_template_rows": null,
            "height": null,
            "justify_content": null,
            "justify_items": null,
            "left": null,
            "margin": null,
            "max_height": null,
            "max_width": null,
            "min_height": null,
            "min_width": null,
            "object_fit": null,
            "object_position": null,
            "order": null,
            "overflow": null,
            "overflow_x": null,
            "overflow_y": null,
            "padding": null,
            "right": null,
            "top": null,
            "visibility": null,
            "width": null
          }
        },
        "7865e32611d74157b28948e5c382396c": {
          "model_module": "@jupyter-widgets/base",
          "model_name": "LayoutModel",
          "model_module_version": "1.2.0",
          "state": {
            "_model_module": "@jupyter-widgets/base",
            "_model_module_version": "1.2.0",
            "_model_name": "LayoutModel",
            "_view_count": null,
            "_view_module": "@jupyter-widgets/base",
            "_view_module_version": "1.2.0",
            "_view_name": "LayoutView",
            "align_content": null,
            "align_items": null,
            "align_self": null,
            "border": null,
            "bottom": null,
            "display": null,
            "flex": null,
            "flex_flow": null,
            "grid_area": null,
            "grid_auto_columns": null,
            "grid_auto_flow": null,
            "grid_auto_rows": null,
            "grid_column": null,
            "grid_gap": null,
            "grid_row": null,
            "grid_template_areas": null,
            "grid_template_columns": null,
            "grid_template_rows": null,
            "height": null,
            "justify_content": null,
            "justify_items": null,
            "left": null,
            "margin": null,
            "max_height": null,
            "max_width": null,
            "min_height": null,
            "min_width": null,
            "object_fit": null,
            "object_position": null,
            "order": null,
            "overflow": null,
            "overflow_x": null,
            "overflow_y": null,
            "padding": null,
            "right": null,
            "top": null,
            "visibility": null,
            "width": null
          }
        },
        "75108d4739884537b4215881165b5438": {
          "model_module": "@jupyter-widgets/controls",
          "model_name": "DescriptionStyleModel",
          "model_module_version": "1.5.0",
          "state": {
            "_model_module": "@jupyter-widgets/controls",
            "_model_module_version": "1.5.0",
            "_model_name": "DescriptionStyleModel",
            "_view_count": null,
            "_view_module": "@jupyter-widgets/base",
            "_view_module_version": "1.2.0",
            "_view_name": "StyleView",
            "description_width": ""
          }
        },
        "0a87212630ce4270a52563ea6005c04b": {
          "model_module": "@jupyter-widgets/base",
          "model_name": "LayoutModel",
          "model_module_version": "1.2.0",
          "state": {
            "_model_module": "@jupyter-widgets/base",
            "_model_module_version": "1.2.0",
            "_model_name": "LayoutModel",
            "_view_count": null,
            "_view_module": "@jupyter-widgets/base",
            "_view_module_version": "1.2.0",
            "_view_name": "LayoutView",
            "align_content": null,
            "align_items": null,
            "align_self": null,
            "border": null,
            "bottom": null,
            "display": null,
            "flex": null,
            "flex_flow": null,
            "grid_area": null,
            "grid_auto_columns": null,
            "grid_auto_flow": null,
            "grid_auto_rows": null,
            "grid_column": null,
            "grid_gap": null,
            "grid_row": null,
            "grid_template_areas": null,
            "grid_template_columns": null,
            "grid_template_rows": null,
            "height": null,
            "justify_content": null,
            "justify_items": null,
            "left": null,
            "margin": null,
            "max_height": null,
            "max_width": null,
            "min_height": null,
            "min_width": null,
            "object_fit": null,
            "object_position": null,
            "order": null,
            "overflow": null,
            "overflow_x": null,
            "overflow_y": null,
            "padding": null,
            "right": null,
            "top": null,
            "visibility": null,
            "width": null
          }
        },
        "c9eaf6b7912e4fb1a8fbcafe4efd8bb6": {
          "model_module": "@jupyter-widgets/controls",
          "model_name": "ProgressStyleModel",
          "model_module_version": "1.5.0",
          "state": {
            "_model_module": "@jupyter-widgets/controls",
            "_model_module_version": "1.5.0",
            "_model_name": "ProgressStyleModel",
            "_view_count": null,
            "_view_module": "@jupyter-widgets/base",
            "_view_module_version": "1.2.0",
            "_view_name": "StyleView",
            "bar_color": null,
            "description_width": ""
          }
        },
        "c0c3cec72a284ad9b15111dff1d9ed64": {
          "model_module": "@jupyter-widgets/base",
          "model_name": "LayoutModel",
          "model_module_version": "1.2.0",
          "state": {
            "_model_module": "@jupyter-widgets/base",
            "_model_module_version": "1.2.0",
            "_model_name": "LayoutModel",
            "_view_count": null,
            "_view_module": "@jupyter-widgets/base",
            "_view_module_version": "1.2.0",
            "_view_name": "LayoutView",
            "align_content": null,
            "align_items": null,
            "align_self": null,
            "border": null,
            "bottom": null,
            "display": null,
            "flex": null,
            "flex_flow": null,
            "grid_area": null,
            "grid_auto_columns": null,
            "grid_auto_flow": null,
            "grid_auto_rows": null,
            "grid_column": null,
            "grid_gap": null,
            "grid_row": null,
            "grid_template_areas": null,
            "grid_template_columns": null,
            "grid_template_rows": null,
            "height": null,
            "justify_content": null,
            "justify_items": null,
            "left": null,
            "margin": null,
            "max_height": null,
            "max_width": null,
            "min_height": null,
            "min_width": null,
            "object_fit": null,
            "object_position": null,
            "order": null,
            "overflow": null,
            "overflow_x": null,
            "overflow_y": null,
            "padding": null,
            "right": null,
            "top": null,
            "visibility": null,
            "width": null
          }
        },
        "5d4be5781bc84592a1461462b3ff1734": {
          "model_module": "@jupyter-widgets/controls",
          "model_name": "DescriptionStyleModel",
          "model_module_version": "1.5.0",
          "state": {
            "_model_module": "@jupyter-widgets/controls",
            "_model_module_version": "1.5.0",
            "_model_name": "DescriptionStyleModel",
            "_view_count": null,
            "_view_module": "@jupyter-widgets/base",
            "_view_module_version": "1.2.0",
            "_view_name": "StyleView",
            "description_width": ""
          }
        }
      }
    }
  },
  "nbformat": 4,
  "nbformat_minor": 0
}